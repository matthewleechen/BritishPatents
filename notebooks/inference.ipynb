{
  "cells": [
    {
      "cell_type": "markdown",
      "metadata": {
        "id": "view-in-github",
        "colab_type": "text"
      },
      "source": [
        "<a href=\"https://colab.research.google.com/github/matthewleechen/digitize_woodcroft_patents/blob/main/notebooks/inference.ipynb\" target=\"_parent\"><img src=\"https://colab.research.google.com/assets/colab-badge.svg\" alt=\"Open In Colab\"/></a>"
      ]
    },
    {
      "cell_type": "markdown",
      "source": [
        "This notebook was designed for training in Google Colab Pro."
      ],
      "metadata": {
        "id": "b2U3Xx_eryA8"
      }
    },
    {
      "cell_type": "code",
      "execution_count": null,
      "metadata": {
        "id": "-21C_eABNBBW"
      },
      "outputs": [],
      "source": [
        "%%capture\n",
        "# Install all dependencies\n",
        "! pip install -e git+https://github.com/matthewleechen/layout-parser.git#egg=layoutparser\n",
        "! pip install torchvision && pip install \"git+https://github.com/facebookresearch/detectron2.git@v0.5#egg=detectron2\"\n",
        "! pip install google-cloud-vision "
      ]
    },
    {
      "cell_type": "markdown",
      "source": [
        "Restart runtime before proceeding."
      ],
      "metadata": {
        "id": "fI0eMhvdrcqY"
      }
    },
    {
      "cell_type": "code",
      "execution_count": null,
      "metadata": {
        "id": "5nCrmuE2Rzhh"
      },
      "outputs": [],
      "source": [
        "import layoutparser as lp\n",
        "import os\n",
        "import cv2\n",
        "from concurrent.futures import ThreadPoolExecutor"
      ]
    },
    {
      "cell_type": "markdown",
      "source": [
        "The notebook assumes the images you want to run inference on are uploaded to your Google Drive."
      ],
      "metadata": {
        "id": "6_gmUu8ur59k"
      }
    },
    {
      "cell_type": "code",
      "execution_count": null,
      "metadata": {
        "colab": {
          "base_uri": "https://localhost:8080/"
        },
        "id": "92Y3hfDcFd4D",
        "outputId": "efcc5b73-3e55-4d1c-c18d-5b0bbb6947e5"
      },
      "outputs": [
        {
          "output_type": "stream",
          "name": "stdout",
          "text": [
            "Mounted at /content/drive\n"
          ]
        }
      ],
      "source": [
        "# Mount Google Drive\n",
        "from google.colab import drive \n",
        "drive.mount('/content/drive') # will prompt sign-in"
      ]
    },
    {
      "cell_type": "markdown",
      "source": [
        "Upload the model configuration file (`config.yaml`) and the model weights file (in the format `model_{number of iterations}.yaml`). Modify the label map appropriately according to your COCO annotations file.\n",
        "\n",
        "The argument `MODEL.ROI_HEADS.SCORE_THRESH_TEST` is set to 0.5 by default, meaning that bounding boxes with a confidence score below 0.5 are suppressed (see https://detectron2.readthedocs.io/en/latest/modules/config.html). You can change this parameter."
      ],
      "metadata": {
        "id": "YMoMbKOSsN1_"
      }
    },
    {
      "cell_type": "code",
      "execution_count": null,
      "metadata": {
        "id": "60x0I6sbQq5g"
      },
      "outputs": [],
      "source": [
        "model = lp.Detectron2LayoutModel(\n",
        "    config_path = \"/path/to/config/file\",\n",
        "    model_path = \"/path/to/model/weights/file\",\n",
        "    extra_config=[\"MODEL.ROI_HEADS.SCORE_THRESH_TEST\", 0.5], \n",
        "    label_map={0: \"date_box\", 1: \"full_box\", 2: \"header\", 3: \"text\"}\n",
        ")"
      ]
    },
    {
      "cell_type": "markdown",
      "source": [
        "Upload your Google Cloud Vision credentials file to the current directory."
      ],
      "metadata": {
        "id": "TwovPIj4sUwt"
      }
    },
    {
      "cell_type": "code",
      "execution_count": null,
      "metadata": {
        "id": "Oidsgac7JimU"
      },
      "outputs": [],
      "source": [
        "# Initialize GCV API \n",
        "ocr_agent = lp.GCVAgent.with_credential(\"/content/patents-381912-ca752b6251d6.json\",\n",
        "                                        languages = ['en']) "
      ]
    },
    {
      "cell_type": "code",
      "source": [
        "# Set folder path\n",
        "folder_path = \"/path/to/folder\""
      ],
      "metadata": {
        "id": "YqGRY9PZc91t"
      },
      "execution_count": null,
      "outputs": []
    },
    {
      "cell_type": "code",
      "source": [
        "# Loop over documents and run inference\n",
        "def process_image(filepath):\n",
        "    # Construct the input and output file paths\n",
        "    output_filepath = os.path.splitext(filepath)[0] + '.txt'\n",
        "\n",
        "    # Perform layout detection and OCR on the image\n",
        "    image = cv2.imread(filepath)\n",
        "    layout = model.detect(image)\n",
        "    blocks = lp.Layout([b for b in layout if b.type=='text' or b.type=='date_box' or b.type=='full_box'])\n",
        "\n",
        "    with open(output_filepath, 'w') as f:\n",
        "        sorted_blocks = sorted(blocks, key=lambda b: b.coordinates[1]) # order by y-axis\n",
        "\n",
        "        for block in sorted_blocks: # padding\n",
        "            segment_image = (block\n",
        "                                .pad(left=5, right=5, top=5, bottom=5)\n",
        "                                .crop_image(image))\n",
        "\n",
        "            layout = ocr_agent.detect(segment_image)\n",
        "\n",
        "            full_text = ''\n",
        "            for line in layout:\n",
        "                text = line.text\n",
        "                if text.endswith('.'):\n",
        "                    full_text += text + '\\n'\n",
        "                else:\n",
        "                    # remove spaces before commas\n",
        "                    text = text.replace(' ,', ',')\n",
        "                    full_text += text + ' '\n",
        "\n",
        "            # remove space before full stops\n",
        "            full_text = full_text.replace(' .', '.')\n",
        "\n",
        "            # Write the output to the file\n",
        "            f.write(full_text.strip() + \"\\n\")\n",
        "            f.write('---\\n')\n",
        "\n",
        "if __name__ == '__main__':\n",
        "\n",
        "    # Get a list of all the JPEG files in the folder\n",
        "    filenames = [os.path.join(folder_path, f) for f in os.listdir(folder_path) if f.lower().endswith('.jpg')]\n",
        "\n",
        "    # Batch process the images using multiple threads\n",
        "    with ThreadPoolExecutor(max_workers=2) as executor: # set max_workers = #cpu cores (2 on Colab)\n",
        "        executor.map(process_image, filenames)"
      ],
      "metadata": {
        "id": "Fxt-d1iS7voY"
      },
      "execution_count": null,
      "outputs": []
    },
    {
      "cell_type": "code",
      "source": [
        "# Create merged text file from all individual pages.\n",
        "\n",
        "output_file = \"merged.txt\"\n",
        "\n",
        "# Get a list of all the .txt files in the directory, sorted by name\n",
        "files = [f for f in os.listdir(folder_path) if f.endswith(\".txt\")]\n",
        "files.sort()\n",
        "\n",
        "with open(os.path.join(folder_path, output_file), \"w\") as outfile:\n",
        "    for filename in files:\n",
        "        with open(os.path.join(folder_path, filename), \"r\") as infile:\n",
        "            content = infile.read().strip()\n",
        "            if content:  # Check if content is not empty\n",
        "                if outfile.tell() != 0:  # Check if output file is not empty\n",
        "                    outfile.write(\"---\\n\")  # Add separator between files\n",
        "                outfile.write(content)\n",
        "\n",
        "# Remove double separators\n",
        "with open(os.path.join(folder_path, output_file), \"r+\") as f:\n",
        "    lines = f.readlines()\n",
        "    f.seek(0)\n",
        "    for i, line in enumerate(lines):\n",
        "        if line.strip() != \"---\" or i == 0 or lines[i-1].strip() != \"---\":\n",
        "            f.write(line)\n",
        "    f.truncate()"
      ],
      "metadata": {
        "id": "nGwhCS-AUNmP"
      },
      "execution_count": 36,
      "outputs": []
    }
  ],
  "metadata": {
    "colab": {
      "provenance": [],
      "include_colab_link": true
    },
    "gpuClass": "standard",
    "kernelspec": {
      "display_name": "Python 3",
      "name": "python3"
    },
    "language_info": {
      "name": "python"
    }
  },
  "nbformat": 4,
  "nbformat_minor": 0
}